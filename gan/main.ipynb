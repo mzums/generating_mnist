{
 "cells": [
  {
   "cell_type": "code",
   "execution_count": 1,
   "id": "9728b3c4",
   "metadata": {},
   "outputs": [],
   "source": [
    "import torch\n",
    "from torch import nn\n",
    "\n",
    "import math\n",
    "import matplotlib.pyplot as plt\n"
   ]
  },
  {
   "cell_type": "code",
   "execution_count": 2,
   "id": "8e6299da",
   "metadata": {},
   "outputs": [
    {
     "data": {
      "text/plain": [
       "<torch._C.Generator at 0x7f3a7a1d4a10>"
      ]
     },
     "execution_count": 2,
     "metadata": {},
     "output_type": "execute_result"
    }
   ],
   "source": [
    "torch.manual_seed(111)"
   ]
  },
  {
   "cell_type": "code",
   "execution_count": 21,
   "id": "685f13a4",
   "metadata": {},
   "outputs": [],
   "source": [
    "train_data_length = 1024\n",
    "train_data = torch.zeros((train_data_length, 2))\n",
    "train_data[:, 0] = 2 * math.pi * torch.rand(train_data_length)\n",
    "train_data[:, 1] = torch.sin(train_data[:, 0])\n",
    "train_labels = torch.zeros(train_data_length)\n",
    "train_set = [\n",
    "    (train_data[i], train_labels[i]) for i in range(train_data_length)\n",
    "]"
   ]
  },
  {
   "cell_type": "code",
   "execution_count": 22,
   "id": "2b89aed0",
   "metadata": {},
   "outputs": [
    {
     "data": {
      "text/plain": [
       "[<matplotlib.lines.Line2D at 0x7f39cd498f20>]"
      ]
     },
     "execution_count": 22,
     "metadata": {},
     "output_type": "execute_result"
    },
    {
     "data": {
      "image/png": "[encoded data removed]",
      "text/plain": [
       "<Figure size 640x480 with 1 Axes>"
      ]
     },
     "metadata": {},
     "output_type": "display_data"
    }
   ],
   "source": [
    "plt.plot(train_data[:, 0], train_data[:, 1], \".\")"
   ]
  },
  {
   "cell_type": "code",
   "execution_count": 23,
   "id": "95a6e782",
   "metadata": {},
   "outputs": [],
   "source": [
    "batch_size = 32\n",
    "train_loader = torch.utils.data.DataLoader(\n",
    "    train_set, batch_size=batch_size, shuffle=True\n",
    ")"
   ]
  },
  {
   "cell_type": "code",
   "execution_count": 24,
   "id": "9c06f936",
   "metadata": {},
   "outputs": [],
   "source": [
    "class Discriminator(nn.Module):\n",
    "    def __init__(self):\n",
    "        super().__init__()\n",
    "        self.model = nn.Sequential(\n",
    "            nn.Linear(2, 256),\n",
    "            nn.ReLU(),\n",
    "            nn.Dropout(0.3),\n",
    "            nn.Linear(256, 128),\n",
    "            nn.ReLU(),\n",
    "            nn.Dropout(0.3),\n",
    "            nn.Linear(128, 64),\n",
    "            nn.ReLU(),\n",
    "            nn.Dropout(0.3),\n",
    "            nn.Linear(64, 1),\n",
    "            nn.Sigmoid(),\n",
    "        )\n",
    "\n",
    "    def forward(self, x):\n",
    "        output = self.model(x)\n",
    "        return output"
   ]
  },
  {
   "cell_type": "code",
   "execution_count": 25,
   "id": "585d39d2",
   "metadata": {},
   "outputs": [],
   "source": [
    "discriminator = Discriminator()"
   ]
  },
  {
   "cell_type": "code",
   "execution_count": 26,
   "id": "33addc6e",
   "metadata": {},
   "outputs": [],
   "source": [
    "class Generator(nn.Module):\n",
    "    def __init__(self):\n",
    "        super().__init__()\n",
    "        self.model = nn.Sequential(\n",
    "            nn.Linear(2, 16),\n",
    "            nn.ReLU(),\n",
    "            nn.Linear(16, 32),\n",
    "            nn.ReLU(),\n",
    "            nn.Linear(32, 2),\n",
    "        )\n",
    "\n",
    "    def forward(self, x):\n",
    "        output = self.model(x)\n",
    "        return output\n",
    "\n",
    "generator = Generator()"
   ]
  },
  {
   "cell_type": "code",
   "execution_count": 39,
   "id": "0c1505e0",
   "metadata": {},
   "outputs": [],
   "source": [
    "lr = 0.001\n",
    "num_epochs = 500\n",
    "loss_function = nn.BCELoss()"
   ]
  },
  {
   "cell_type": "code",
   "execution_count": 40,
   "id": "67eec508",
   "metadata": {},
   "outputs": [],
   "source": [
    "optimizer_discriminator = torch.optim.Adam(discriminator.parameters(), lr=lr)\n",
    "optimizer_generator = torch.optim.Adam(generator.parameters(), lr=lr)"
   ]
  },
  {
   "cell_type": "code",
   "execution_count": null,
   "id": "3351c65a",
   "metadata": {},
   "outputs": [
    {
     "name": "stdout",
     "output_type": "stream",
     "text": [
      "Epoch: 0 Loss D.: 0.7064659595489502\n",
      "Epoch: 0 Loss G.: 0.9159916639328003\n",
      "Epoch: 10 Loss D.: 0.5707825422286987\n",
      "Epoch: 10 Loss G.: 0.9355283975601196\n",
      "Epoch: 20 Loss D.: 0.604706883430481\n",
      "Epoch: 20 Loss G.: 0.8742746114730835\n",
      "Epoch: 30 Loss D.: 0.5657393336296082\n",
      "Epoch: 30 Loss G.: 1.1026461124420166\n",
      "Epoch: 40 Loss D.: 0.7405175566673279\n",
      "Epoch: 40 Loss G.: 0.8398964405059814\n",
      "Epoch: 50 Loss D.: 0.5659371614456177\n",
      "Epoch: 50 Loss G.: 1.260227084159851\n",
      "Epoch: 60 Loss D.: 0.5407239198684692\n",
      "Epoch: 60 Loss G.: 1.1154886484146118\n",
      "Epoch: 70 Loss D.: 0.6435872316360474\n",
      "Epoch: 70 Loss G.: 0.8521744608879089\n",
      "Epoch: 80 Loss D.: 0.41605114936828613\n",
      "Epoch: 80 Loss G.: 1.3052849769592285\n",
      "Epoch: 90 Loss D.: 0.5829862356185913\n",
      "Epoch: 90 Loss G.: 0.8757632374763489\n",
      "Epoch: 100 Loss D.: 0.5702059864997864\n",
      "Epoch: 100 Loss G.: 0.8558046817779541\n",
      "Epoch: 110 Loss D.: 0.6073017120361328\n",
      "Epoch: 110 Loss G.: 0.9160892367362976\n",
      "Epoch: 120 Loss D.: 0.49033793807029724\n",
      "Epoch: 120 Loss G.: 1.1400692462921143\n",
      "Epoch: 130 Loss D.: 0.6049907207489014\n",
      "Epoch: 130 Loss G.: 0.9087942242622375\n",
      "Epoch: 140 Loss D.: 0.6204591393470764\n",
      "Epoch: 140 Loss G.: 0.9023982286453247\n",
      "Epoch: 150 Loss D.: 0.6312990188598633\n",
      "Epoch: 150 Loss G.: 0.8736112713813782\n",
      "Epoch: 160 Loss D.: 0.6083598732948303\n",
      "Epoch: 160 Loss G.: 1.0098260641098022\n",
      "Epoch: 170 Loss D.: 0.6529695391654968\n",
      "Epoch: 170 Loss G.: 1.0205236673355103\n",
      "Epoch: 180 Loss D.: 0.6674973964691162\n",
      "Epoch: 180 Loss G.: 1.030712366104126\n",
      "Epoch: 190 Loss D.: 0.5112416744232178\n",
      "Epoch: 190 Loss G.: 1.1764789819717407\n",
      "Epoch: 200 Loss D.: 0.5094631314277649\n",
      "Epoch: 200 Loss G.: 1.4773578643798828\n",
      "Epoch: 210 Loss D.: 0.5909495949745178\n",
      "Epoch: 210 Loss G.: 1.1250964403152466\n",
      "Epoch: 220 Loss D.: 0.5641998052597046\n",
      "Epoch: 220 Loss G.: 1.0224618911743164\n",
      "Epoch: 230 Loss D.: 0.5334904789924622\n",
      "Epoch: 230 Loss G.: 1.1262032985687256\n",
      "Epoch: 240 Loss D.: 0.5504375696182251\n",
      "Epoch: 240 Loss G.: 1.284759521484375\n",
      "Epoch: 250 Loss D.: 0.593363344669342\n",
      "Epoch: 250 Loss G.: 0.903694748878479\n",
      "Epoch: 260 Loss D.: 0.6296851634979248\n",
      "Epoch: 260 Loss G.: 0.843464732170105\n",
      "Epoch: 270 Loss D.: 0.5756086707115173\n",
      "Epoch: 270 Loss G.: 0.82398521900177\n",
      "Epoch: 280 Loss D.: 0.6161537766456604\n",
      "Epoch: 280 Loss G.: 0.8676555156707764\n",
      "Epoch: 290 Loss D.: 0.6210573315620422\n",
      "Epoch: 290 Loss G.: 0.8275610208511353\n",
      "Epoch: 300 Loss D.: 0.6359562277793884\n",
      "Epoch: 300 Loss G.: 0.7830789685249329\n",
      "Epoch: 310 Loss D.: 0.5457406640052795\n",
      "Epoch: 310 Loss G.: 0.8669362664222717\n",
      "Epoch: 320 Loss D.: 0.7106415033340454\n",
      "Epoch: 320 Loss G.: 1.0976754426956177\n",
      "Epoch: 330 Loss D.: 0.5711246728897095\n",
      "Epoch: 330 Loss G.: 0.8664712309837341\n",
      "Epoch: 340 Loss D.: 0.577545166015625\n",
      "Epoch: 340 Loss G.: 0.882634162902832\n",
      "Epoch: 350 Loss D.: 0.531287670135498\n",
      "Epoch: 350 Loss G.: 1.0398235321044922\n",
      "Epoch: 360 Loss D.: 0.6690945029258728\n",
      "Epoch: 360 Loss G.: 0.8209636807441711\n",
      "Epoch: 370 Loss D.: 0.637407124042511\n",
      "Epoch: 370 Loss G.: 0.8231552839279175\n",
      "Epoch: 380 Loss D.: 0.4548424780368805\n",
      "Epoch: 380 Loss G.: 1.3338594436645508\n",
      "Epoch: 390 Loss D.: 0.7498789429664612\n",
      "Epoch: 390 Loss G.: 0.7960790395736694\n",
      "Epoch: 400 Loss D.: 0.6536975502967834\n",
      "Epoch: 400 Loss G.: 0.80701744556427\n",
      "Epoch: 410 Loss D.: 0.6261209845542908\n",
      "Epoch: 410 Loss G.: 0.9255483746528625\n",
      "Epoch: 420 Loss D.: 0.6169110536575317\n",
      "Epoch: 420 Loss G.: 0.7083684802055359\n",
      "Epoch: 430 Loss D.: 0.6364730000495911\n",
      "Epoch: 430 Loss G.: 0.9447568655014038\n",
      "Epoch: 440 Loss D.: 0.6308675408363342\n",
      "Epoch: 440 Loss G.: 0.9746098518371582\n",
      "Epoch: 450 Loss D.: 0.6167140007019043\n",
      "Epoch: 450 Loss G.: 0.7586992979049683\n",
      "Epoch: 460 Loss D.: 0.6499643325805664\n",
      "Epoch: 460 Loss G.: 0.8703233003616333\n",
      "Epoch: 470 Loss D.: 0.5698812007904053\n",
      "Epoch: 470 Loss G.: 1.0528768301010132\n",
      "Epoch: 480 Loss D.: 0.7452501654624939\n",
      "Epoch: 480 Loss G.: 0.7203372120857239\n",
      "Epoch: 490 Loss D.: 0.7099751830101013\n",
      "Epoch: 490 Loss G.: 0.938690185546875\n"
     ]
    }
   ],
   "source": [
    "for epoch in range(num_epochs):\n",
    "    for n, (real_samples, _) in enumerate(train_loader):\n",
    "        real_samples_labels = torch.ones((batch_size, 1))\n",
    "        latent_space_samples = torch.randn((batch_size, 2))\n",
    "        generated_samples = generator(latent_space_samples)\n",
    "        generated_samples_labels = torch.zeros((batch_size, 1))\n",
    "        all_samples = torch.cat((real_samples, generated_samples))\n",
    "        all_samples_labels = torch.cat(\n",
    "            (real_samples_labels, generated_samples_labels)\n",
    "        )\n",
    "\n",
    "        discriminator.zero_grad()\n",
    "        output_discriminator = discriminator(all_samples)\n",
    "        loss_discriminator = loss_function(\n",
    "            output_discriminator, all_samples_labels)\n",
    "        loss_discriminator.backward()\n",
    "        optimizer_discriminator.step()\n",
    "\n",
    "        latent_space_samples = torch.randn((batch_size, 2))\n",
    "\n",
    "        generator.zero_grad()\n",
    "        generated_samples = generator(latent_space_samples)\n",
    "        output_discriminator_generated = discriminator(generated_samples)\n",
    "        loss_generator = loss_function(\n",
    "            output_discriminator_generated, real_samples_labels\n",
    "        )\n",
    "        loss_generator.backward()\n",
    "        optimizer_generator.step()\n",
    "\n",
    "        if epoch % 10 == 0 and n == batch_size - 1:\n",
    "            print(f\"Epoch: {epoch} Loss D.: {loss_discriminator}\")\n",
    "            print(f\"Epoch: {epoch} Loss G.: {loss_generator}\")"
   ]
  },
  {
   "cell_type": "code",
   "execution_count": 42,
   "id": "53e01b4f",
   "metadata": {},
   "outputs": [],
   "source": [
    "latent_space_samples = torch.randn(100, 2)\n",
    "generated_samples = generator(latent_space_samples)"
   ]
  },
  {
   "cell_type": "code",
   "execution_count": null,
   "id": "b57d8ed9",
   "metadata": {},
   "outputs": [
    {
     "data": {
      "text/plain": [
       "[<matplotlib.lines.Line2D at 0x7f39cd058f20>]"
      ]
     },
     "execution_count": 43,
     "metadata": {},
     "output_type": "execute_result"
    },
    {
     "data": {
      "image/png": "[encoded data removed]",
      "text/plain": [
       "<Figure size 640x480 with 1 Axes>"
      ]
     },
     "metadata": {},
     "output_type": "display_data"
    }
   ],
   "source": [
    "generated_samples = generated_samples.detach()\n",
    "plt.plot(generated_samples[:, 0], generated_samples[:, 1], \".\")"
   ]
  }
 ],
 "metadata": {
  "kernelspec": {
   "display_name": "ml",
   "language": "python",
   "name": "python3"
  },
  "language_info": {
   "codemirror_mode": {
    "name": "ipython",
    "version": 3
   },
   "file_extension": ".py",
   "mimetype": "text/x-python",
   "name": "python",
   "nbconvert_exporter": "python",
   "pygments_lexer": "ipython3",
   "version": "3.12.2"
  }
 },
 "nbformat": 4,
 "nbformat_minor": 5
}
